{
 "cells": [
  {
   "cell_type": "code",
   "execution_count": 82,
   "id": "ad8e2c06-97a8-4856-910d-ebc145df9837",
   "metadata": {},
   "outputs": [],
   "source": [
    "from PIL import Image\n",
    "import os\n",
    "import cv2\n",
    "\n",
    "import torch.tensor as tensor\n",
    "import torch, torchvision\n",
    "import torch.nn as nn\n",
    "import torch.nn.functional as F\n",
    "import torch.optim as optim\n",
    "from torch.utils.data import DataLoader\n",
    "from torchvision import datasets, models, transforms\n",
    "from torch.utils.data.dataset import random_split as random_split\n",
    "\n",
    "import pandas as pd\n",
    "import numpy as np\n",
    "import matplotlib.pyplot as plt\n",
    "from matplotlib import font_manager, rc\n",
    "\n",
    "import time"
   ]
  },
  {
   "cell_type": "code",
   "execution_count": 83,
   "id": "f5c88eff-62fa-45b1-99d7-25a3b8d455c5",
   "metadata": {},
   "outputs": [
    {
     "data": {
      "text/plain": [
       "True"
      ]
     },
     "execution_count": 83,
     "metadata": {},
     "output_type": "execute_result"
    }
   ],
   "source": [
    "torch.cuda.is_available()"
   ]
  },
  {
   "cell_type": "code",
   "execution_count": 84,
   "id": "807a7c48-5fe8-4b92-9a64-2c4af19535d7",
   "metadata": {},
   "outputs": [],
   "source": [
    "device=torch.device('cuda' if torch.cuda.is_available() else 'cpu')"
   ]
  },
  {
   "cell_type": "code",
   "execution_count": 85,
   "id": "5b745ebe-37c6-4149-be1e-26e4b07de15c",
   "metadata": {},
   "outputs": [],
   "source": [
    "width, height= 224,224\n",
    "batch_size=32\n",
    "learning_rate=0.001"
   ]
  },
  {
   "cell_type": "code",
   "execution_count": 86,
   "id": "e151414f-925a-441e-b8b1-e13f703455be",
   "metadata": {},
   "outputs": [],
   "source": [
    "train_dir='Training'\n",
    "test_dir='Testing'"
   ]
  },
  {
   "cell_type": "code",
   "execution_count": 87,
   "id": "aaf11fe0-d34b-45e3-8bd3-731fcfbed8e5",
   "metadata": {},
   "outputs": [
    {
     "data": {
      "text/plain": [
       "4"
      ]
     },
     "execution_count": 87,
     "metadata": {},
     "output_type": "execute_result"
    }
   ],
   "source": [
    "num_classes=len(os.listdir(train_dir))\n",
    "num_classes"
   ]
  },
  {
   "cell_type": "code",
   "execution_count": 88,
   "id": "0c867d71-3944-4a98-8650-db8befcc148d",
   "metadata": {},
   "outputs": [],
   "source": [
    "# Tensor 변환, 이미지 input size 맞춰주기 등 input data에 대한 전처리\n",
    "image_transforms={\n",
    "    'train':transforms.Compose([\n",
    "            transforms.ToTensor(),\n",
    "            transforms.Resize((width, height)),    \n",
    "            transforms.RandomRotation(0.2),\n",
    "            transforms.RandomHorizontalFlip(),\n",
    "            transforms.Normalize([0.485, 0.456, 0.406],\n",
    "                                 [0.229, 0.224, 0.225])  \n",
    "    ]),\n",
    "    'test':transforms.Compose([\n",
    "            transforms.ToTensor(),\n",
    "            transforms.Resize((width, height)),    \n",
    "            transforms.Normalize([0.485, 0.456, 0.406],\n",
    "                                 [0.229, 0.224, 0.225])\n",
    "    ])\n",
    "}\n",
    "\n",
    "\n",
    "#data 직접 가져와서 transform\n",
    "data={\n",
    "    'train':datasets.ImageFolder(root=train_dir, transform=image_transforms['train']),\n",
    "    'test':datasets.ImageFolder(root=test_dir, transform=image_transforms['test'])\n",
    "}"
   ]
  },
  {
   "cell_type": "code",
   "execution_count": 89,
   "id": "80e5aa98-ba94-45da-a273-d710699f5030",
   "metadata": {},
   "outputs": [],
   "source": [
    "train_data_loader=DataLoader(data['train'], batch_size=batch_size, shuffle=True)\n",
    "test_data_loader=DataLoader(data['test'], batch_size=batch_size, shuffle=False)"
   ]
  },
  {
   "cell_type": "code",
   "execution_count": 90,
   "id": "2b84cfd7-5e02-4e3b-b632-d09d8d44c8ad",
   "metadata": {},
   "outputs": [
    {
     "name": "stdout",
     "output_type": "stream",
     "text": [
      "length of train_data:  2871\n",
      "length of test_data:  394\n"
     ]
    }
   ],
   "source": [
    "# len_train=len(data['train'])\n",
    "len_train=len(data['train'])\n",
    "len_test=len(data['test'])\n",
    "print('length of train_data: ',len(data['train']))\n",
    "print('length of test_data: ',len(data['test']))"
   ]
  },
  {
   "cell_type": "code",
   "execution_count": 94,
   "id": "7670b68f-1f9a-4bf5-88aa-fde5edfc69ff",
   "metadata": {},
   "outputs": [
    {
     "name": "stdout",
     "output_type": "stream",
     "text": [
      "/glioma_tumor : 827\n",
      "/meningioma_tumor : 822\n",
      "/no_tumor : 395\n",
      "/pituitary_tumor : 827\n"
     ]
    }
   ],
   "source": [
    "for dir in ['/glioma_tumor', '/meningioma_tumor', '/no_tumor', '/pituitary_tumor']:\n",
    "    print(dir , ':', len(os.listdir(train_dir+dir)))"
   ]
  },
  {
   "cell_type": "code",
   "execution_count": 95,
   "id": "abeec506-7413-465d-b87c-cd2393fc2b8d",
   "metadata": {},
   "outputs": [
    {
     "name": "stdout",
     "output_type": "stream",
     "text": [
      "{'glioma_tumor': 0, 'meningioma_tumor': 1, 'no_tumor': 2, 'pituitary_tumor': 3}\n"
     ]
    }
   ],
   "source": [
    "indexes={k:v for k,v in data['train'].class_to_idx.items()}\n",
    "print(indexes)"
   ]
  },
  {
   "cell_type": "code",
   "execution_count": 96,
   "id": "584241c5-73cb-4d9e-ba6f-663ea678f7d8",
   "metadata": {},
   "outputs": [
    {
     "name": "stderr",
     "output_type": "stream",
     "text": [
      "Clipping input data to the valid range for imshow with RGB data ([0..1] for floats or [0..255] for integers).\n"
     ]
    },
    {
     "name": "stdout",
     "output_type": "stream",
     "text": [
      "0\n",
      "<class 'numpy.ndarray'>\n"
     ]
    },
    {
     "data": {
      "image/png": "[encoded data removed]",
      "text/plain": [
       "<Figure size 432x288 with 1 Axes>"
      ]
     },
     "metadata": {
      "needs_background": "light"
     },
     "output_type": "display_data"
    }
   ],
   "source": [
    "#이미지 보기\n",
    "for batch_idx, (inputs, targets) in enumerate(train_data_loader):\n",
    "    if batch_idx==1:\n",
    "        break\n",
    "    else:\n",
    "        print(batch_idx)\n",
    "        img=inputs[batch_idx].numpy()\n",
    "        print(type(img))\n",
    "        plt.imshow(np.transpose(img,(1,2,0)))\n",
    "        plt.show()"
   ]
  },
  {
   "cell_type": "code",
   "execution_count": 97,
   "id": "e4892475-5270-456a-b9a0-b13bf8a9a312",
   "metadata": {},
   "outputs": [
    {
     "name": "stdout",
     "output_type": "stream",
     "text": [
      "(3, 224, 224)\n",
      "<class 'numpy.ndarray'>\n",
      "(224, 224, 3)\n"
     ]
    }
   ],
   "source": [
    "print(img.shape)\n",
    "print(type(img))\n",
    "print(np.transpose(img,(1,2,0)).shape)"
   ]
  },
  {
   "cell_type": "code",
   "execution_count": 98,
   "id": "c5417186-5e10-4ff7-96a3-9acebadd9a0b",
   "metadata": {
    "collapsed": true,
    "jupyter": {
     "outputs_hidden": true
    },
    "tags": []
   },
   "outputs": [
    {
     "data": {
      "text/plain": [
       "VGG(\n",
       "  (features): Sequential(\n",
       "    (0): Conv2d(3, 64, kernel_size=(3, 3), stride=(1, 1), padding=(1, 1))\n",
       "    (1): BatchNorm2d(64, eps=1e-05, momentum=0.1, affine=True, track_running_stats=True)\n",
       "    (2): ReLU(inplace=True)\n",
       "    (3): Conv2d(64, 64, kernel_size=(3, 3), stride=(1, 1), padding=(1, 1))\n",
       "    (4): BatchNorm2d(64, eps=1e-05, momentum=0.1, affine=True, track_running_stats=True)\n",
       "    (5): ReLU(inplace=True)\n",
       "    (6): MaxPool2d(kernel_size=2, stride=2, padding=0, dilation=1, ceil_mode=False)\n",
       "    (7): Conv2d(64, 128, kernel_size=(3, 3), stride=(1, 1), padding=(1, 1))\n",
       "    (8): BatchNorm2d(128, eps=1e-05, momentum=0.1, affine=True, track_running_stats=True)\n",
       "    (9): ReLU(inplace=True)\n",
       "    (10): Conv2d(128, 128, kernel_size=(3, 3), stride=(1, 1), padding=(1, 1))\n",
       "    (11): BatchNorm2d(128, eps=1e-05, momentum=0.1, affine=True, track_running_stats=True)\n",
       "    (12): ReLU(inplace=True)\n",
       "    (13): MaxPool2d(kernel_size=2, stride=2, padding=0, dilation=1, ceil_mode=False)\n",
       "    (14): Conv2d(128, 256, kernel_size=(3, 3), stride=(1, 1), padding=(1, 1))\n",
       "    (15): BatchNorm2d(256, eps=1e-05, momentum=0.1, affine=True, track_running_stats=True)\n",
       "    (16): ReLU(inplace=True)\n",
       "    (17): Conv2d(256, 256, kernel_size=(3, 3), stride=(1, 1), padding=(1, 1))\n",
       "    (18): BatchNorm2d(256, eps=1e-05, momentum=0.1, affine=True, track_running_stats=True)\n",
       "    (19): ReLU(inplace=True)\n",
       "    (20): Conv2d(256, 256, kernel_size=(3, 3), stride=(1, 1), padding=(1, 1))\n",
       "    (21): BatchNorm2d(256, eps=1e-05, momentum=0.1, affine=True, track_running_stats=True)\n",
       "    (22): ReLU(inplace=True)\n",
       "    (23): MaxPool2d(kernel_size=2, stride=2, padding=0, dilation=1, ceil_mode=False)\n",
       "    (24): Conv2d(256, 512, kernel_size=(3, 3), stride=(1, 1), padding=(1, 1))\n",
       "    (25): BatchNorm2d(512, eps=1e-05, momentum=0.1, affine=True, track_running_stats=True)\n",
       "    (26): ReLU(inplace=True)\n",
       "    (27): Conv2d(512, 512, kernel_size=(3, 3), stride=(1, 1), padding=(1, 1))\n",
       "    (28): BatchNorm2d(512, eps=1e-05, momentum=0.1, affine=True, track_running_stats=True)\n",
       "    (29): ReLU(inplace=True)\n",
       "    (30): Conv2d(512, 512, kernel_size=(3, 3), stride=(1, 1), padding=(1, 1))\n",
       "    (31): BatchNorm2d(512, eps=1e-05, momentum=0.1, affine=True, track_running_stats=True)\n",
       "    (32): ReLU(inplace=True)\n",
       "    (33): MaxPool2d(kernel_size=2, stride=2, padding=0, dilation=1, ceil_mode=False)\n",
       "    (34): Conv2d(512, 512, kernel_size=(3, 3), stride=(1, 1), padding=(1, 1))\n",
       "    (35): BatchNorm2d(512, eps=1e-05, momentum=0.1, affine=True, track_running_stats=True)\n",
       "    (36): ReLU(inplace=True)\n",
       "    (37): Conv2d(512, 512, kernel_size=(3, 3), stride=(1, 1), padding=(1, 1))\n",
       "    (38): BatchNorm2d(512, eps=1e-05, momentum=0.1, affine=True, track_running_stats=True)\n",
       "    (39): ReLU(inplace=True)\n",
       "    (40): Conv2d(512, 512, kernel_size=(3, 3), stride=(1, 1), padding=(1, 1))\n",
       "    (41): BatchNorm2d(512, eps=1e-05, momentum=0.1, affine=True, track_running_stats=True)\n",
       "    (42): ReLU(inplace=True)\n",
       "    (43): MaxPool2d(kernel_size=2, stride=2, padding=0, dilation=1, ceil_mode=False)\n",
       "  )\n",
       "  (avgpool): AdaptiveAvgPool2d(output_size=(7, 7))\n",
       "  (classifier): Sequential(\n",
       "    (0): Linear(in_features=25088, out_features=4096, bias=True)\n",
       "    (1): ReLU(inplace=True)\n",
       "    (2): Dropout(p=0.5, inplace=False)\n",
       "    (3): Linear(in_features=4096, out_features=4096, bias=True)\n",
       "    (4): ReLU(inplace=True)\n",
       "    (5): Dropout(p=0.5, inplace=False)\n",
       "    (6): Linear(in_features=4096, out_features=4, bias=True)\n",
       "  )\n",
       ")"
      ]
     },
     "execution_count": 98,
     "metadata": {},
     "output_type": "execute_result"
    }
   ],
   "source": [
    "# base_model=models.resnet50(pretrained=True)\n",
    "base_model=models.vgg16_bn(pretrained=True)\n",
    "\n",
    "for param in base_model.parameters():\n",
    "    param.requires_grad=True\n",
    "    param.requires_bias=True\n",
    "\n",
    "n_inputs=base_model.classifier[-1].in_features\n",
    "last_layer=nn.Linear(n_inputs, 4)\n",
    "base_model.classifier[-1]=last_layer\n",
    "\n",
    "base_model.to(device)"
   ]
  },
  {
   "cell_type": "code",
   "execution_count": 49,
   "id": "d87aa009-66f1-41c8-b870-4fc38c0de91a",
   "metadata": {
    "collapsed": true,
    "jupyter": {
     "outputs_hidden": true
    },
    "tags": []
   },
   "outputs": [
    {
     "name": "stdout",
     "output_type": "stream",
     "text": [
      "----------------------------------------------------------------\n",
      "        Layer (type)               Output Shape         Param #\n",
      "================================================================\n",
      "            Conv2d-1         [-1, 64, 224, 224]           1,792\n",
      "              ReLU-2         [-1, 64, 224, 224]               0\n",
      "            Conv2d-3         [-1, 64, 224, 224]          36,928\n",
      "              ReLU-4         [-1, 64, 224, 224]               0\n",
      "         MaxPool2d-5         [-1, 64, 112, 112]               0\n",
      "            Conv2d-6        [-1, 128, 112, 112]          73,856\n",
      "              ReLU-7        [-1, 128, 112, 112]               0\n",
      "            Conv2d-8        [-1, 128, 112, 112]         147,584\n",
      "              ReLU-9        [-1, 128, 112, 112]               0\n",
      "        MaxPool2d-10          [-1, 128, 56, 56]               0\n",
      "           Conv2d-11          [-1, 256, 56, 56]         295,168\n",
      "             ReLU-12          [-1, 256, 56, 56]               0\n",
      "           Conv2d-13          [-1, 256, 56, 56]         590,080\n",
      "             ReLU-14          [-1, 256, 56, 56]               0\n",
      "           Conv2d-15          [-1, 256, 56, 56]         590,080\n",
      "             ReLU-16          [-1, 256, 56, 56]               0\n",
      "        MaxPool2d-17          [-1, 256, 28, 28]               0\n",
      "           Conv2d-18          [-1, 512, 28, 28]       1,180,160\n",
      "             ReLU-19          [-1, 512, 28, 28]               0\n",
      "           Conv2d-20          [-1, 512, 28, 28]       2,359,808\n",
      "             ReLU-21          [-1, 512, 28, 28]               0\n",
      "           Conv2d-22          [-1, 512, 28, 28]       2,359,808\n",
      "             ReLU-23          [-1, 512, 28, 28]               0\n",
      "        MaxPool2d-24          [-1, 512, 14, 14]               0\n",
      "           Conv2d-25          [-1, 512, 14, 14]       2,359,808\n",
      "             ReLU-26          [-1, 512, 14, 14]               0\n",
      "           Conv2d-27          [-1, 512, 14, 14]       2,359,808\n",
      "             ReLU-28          [-1, 512, 14, 14]               0\n",
      "           Conv2d-29          [-1, 512, 14, 14]       2,359,808\n",
      "             ReLU-30          [-1, 512, 14, 14]               0\n",
      "        MaxPool2d-31            [-1, 512, 7, 7]               0\n",
      "AdaptiveAvgPool2d-32            [-1, 512, 7, 7]               0\n",
      "           Linear-33                 [-1, 4096]     102,764,544\n",
      "             ReLU-34                 [-1, 4096]               0\n",
      "          Dropout-35                 [-1, 4096]               0\n",
      "           Linear-36                 [-1, 4096]      16,781,312\n",
      "             ReLU-37                 [-1, 4096]               0\n",
      "          Dropout-38                 [-1, 4096]               0\n",
      "           Linear-39                 [-1, 1000]       4,097,000\n",
      "================================================================\n",
      "Total params: 138,357,544\n",
      "Trainable params: 138,357,544\n",
      "Non-trainable params: 0\n",
      "----------------------------------------------------------------\n",
      "Input size (MB): 0.57\n",
      "Forward/backward pass size (MB): 218.78\n",
      "Params size (MB): 527.79\n",
      "Estimated Total Size (MB): 747.15\n",
      "----------------------------------------------------------------\n"
     ]
    }
   ],
   "source": [
    "from torchsummary import summary\n",
    "summary(base_model, input_size=(3,224,224), device=device.type)"
   ]
  },
  {
   "cell_type": "code",
   "execution_count": 99,
   "id": "6eb4a415-d262-461d-a917-511d2bc643e7",
   "metadata": {},
   "outputs": [],
   "source": [
    "criterion=nn.CrossEntropyLoss().to(device)\n",
    "optimizer=torch.optim.Adam(base_model.parameters(), lr=0.001)"
   ]
  },
  {
   "cell_type": "code",
   "execution_count": 100,
   "id": "126747de-264f-45b6-abd8-e3409f05caf6",
   "metadata": {},
   "outputs": [],
   "source": [
    "def train(model, loss, optimizer, epochs):\n",
    "    start=time.time()\n",
    "    history=[]\n",
    "    best_acc=0.0\n",
    "    \n",
    "    for epoch in range(epochs):\n",
    "        epoch_start=time.time()\n",
    "        print('Epoch : {} / {}' .format(epoch+1, epochs))\n",
    "\n",
    "        model.train()\n",
    "\n",
    "        train_loss=0.0\n",
    "        train_acc=0.0\n",
    "\n",
    "        for i, (inputs, labels) in enumerate(train_data_loader):\n",
    "            inputs=inputs.to(device)\n",
    "            labels=labels.to(device)\n",
    "            optimizer.zero_grad()\n",
    "            outputs=model(inputs)\n",
    "\n",
    "            loss=criterion(outputs, labels)\n",
    "            loss.backward()\n",
    "            optimizer.step()\n",
    "\n",
    "            train_loss+=loss.item() * inputs.size(0)\n",
    "\n",
    "            ret, predictions=torch.max(outputs.data,1)\n",
    "            correct_counts=predictions.eq(labels.data.view_as(predictions))\n",
    "\n",
    "            acc=torch.mean(correct_counts.type(torch.FloatTensor))\n",
    "\n",
    "            train_acc+=acc.item() * inputs.size(0)\n",
    "            \n",
    "    \n",
    "        avg_train_loss=train_loss/len_train\n",
    "        avg_train_acc=train_acc/len_train\n",
    "        print('Training : loss - {:.4f}, Accuracy - {:4f}'.format(avg_train_loss, avg_train_acc))\n",
    "        history.append([avg_train_loss, avg_train_acc])\n",
    "        \n",
    "        \n",
    "    \n",
    "        \n",
    "    epoch_end=time.time()\n",
    "    print(\"Epoch :{:03d} , Validation: loss - {:.4f}, Accuracy - {:4f}, Time : {:4f}s\"\\\n",
    "          .format(epoch+1, avg_train_loss, (avg_train_acc)*100, epoch_end-epoch_start))\n",
    "    \n",
    "#     torch.save(model.state_dict(), '/models')\n",
    "#     torch.save('model_2', '/models')\n",
    "    \n",
    "    return model, history\n"
   ]
  },
  {
   "cell_type": "code",
   "execution_count": 101,
   "id": "17caf57c-f5cf-4340-a65d-368c111c23b5",
   "metadata": {},
   "outputs": [
    {
     "name": "stdout",
     "output_type": "stream",
     "text": [
      "Epoch : 1 / 30\n",
      "Training : loss - 0.8257, Accuracy - 0.692442\n",
      "Epoch : 2 / 30\n",
      "Training : loss - 0.5942, Accuracy - 0.776733\n",
      "Epoch : 3 / 30\n",
      "Training : loss - 0.5175, Accuracy - 0.800766\n",
      "Epoch : 4 / 30\n",
      "Training : loss - 0.4760, Accuracy - 0.819227\n",
      "Epoch : 5 / 30\n",
      "Training : loss - 0.4280, Accuracy - 0.836294\n",
      "Epoch : 6 / 30\n",
      "Training : loss - 0.4548, Accuracy - 0.822710\n",
      "Epoch : 7 / 30\n",
      "Training : loss - 0.3679, Accuracy - 0.859282\n",
      "Epoch : 8 / 30\n",
      "Training : loss - 0.4519, Accuracy - 0.857541\n",
      "Epoch : 9 / 30\n",
      "Training : loss - 0.3906, Accuracy - 0.868339\n",
      "Epoch : 10 / 30\n",
      "Training : loss - 0.4016, Accuracy - 0.864855\n",
      "Epoch : 11 / 30\n",
      "Training : loss - 0.2504, Accuracy - 0.912226\n",
      "Epoch : 12 / 30\n",
      "Training : loss - 0.2027, Accuracy - 0.930686\n",
      "Epoch : 13 / 30\n",
      "Training : loss - 0.1465, Accuracy - 0.946012\n",
      "Epoch : 14 / 30\n",
      "Training : loss - 0.1450, Accuracy - 0.949495\n",
      "Epoch : 15 / 30\n",
      "Training : loss - 0.2585, Accuracy - 0.922675\n",
      "Epoch : 16 / 30\n",
      "Training : loss - 0.2403, Accuracy - 0.932428\n",
      "Epoch : 17 / 30\n",
      "Training : loss - 0.2056, Accuracy - 0.938349\n",
      "Epoch : 18 / 30\n",
      "Training : loss - 0.2687, Accuracy - 0.923372\n",
      "Epoch : 19 / 30\n",
      "Training : loss - 0.1602, Accuracy - 0.949495\n",
      "Epoch : 20 / 30\n",
      "Training : loss - 0.1357, Accuracy - 0.959248\n",
      "Epoch : 21 / 30\n",
      "Training : loss - 0.1002, Accuracy - 0.965517\n",
      "Epoch : 22 / 30\n",
      "Training : loss - 0.0997, Accuracy - 0.969000\n",
      "Epoch : 23 / 30\n",
      "Training : loss - 0.2277, Accuracy - 0.935563\n",
      "Epoch : 24 / 30\n",
      "Training : loss - 0.2405, Accuracy - 0.938001\n",
      "Epoch : 25 / 30\n",
      "Training : loss - 0.1767, Accuracy - 0.948102\n",
      "Epoch : 26 / 30\n",
      "Training : loss - 0.1060, Accuracy - 0.966562\n",
      "Epoch : 27 / 30\n",
      "Training : loss - 0.3029, Accuracy - 0.926158\n",
      "Epoch : 28 / 30\n",
      "Training : loss - 0.1407, Accuracy - 0.955416\n",
      "Epoch : 29 / 30\n",
      "Training : loss - 0.0765, Accuracy - 0.978056\n",
      "Epoch : 30 / 30\n",
      "Training : loss - 0.0642, Accuracy - 0.979450\n",
      "Epoch :030 , Validation: loss - 0.0642, Accuracy - 97.944967, Time : 26.539136s\n"
     ]
    }
   ],
   "source": [
    "epochs=30\n",
    "train_model, train_history=train(base_model, criterion, optimizer, epochs)"
   ]
  },
  {
   "cell_type": "code",
   "execution_count": 102,
   "id": "49337b21-a754-4f09-a1d4-7c887989cff6",
   "metadata": {},
   "outputs": [
    {
     "name": "stdout",
     "output_type": "stream",
     "text": [
      "Test Accuracy 70.558376 %\n"
     ]
    }
   ],
   "source": [
    "train_model.eval()\n",
    "correct=0\n",
    "total=0\n",
    "\n",
    "with torch.no_grad(): #test니까 gradient update 없음\n",
    "    for images , labels in test_data_loader:\n",
    "        images=images.to(device)\n",
    "        labels=labels.to(device)\n",
    "        outputs=train_model(images)\n",
    "        _, predicted= torch.max(outputs.data,1)\n",
    "        total+=labels.size(0)\n",
    "        correct+=(predicted==labels).sum().item()\n",
    "    print('Test Accuracy {} %'.format(round(100*correct/total , 6)))"
   ]
  },
  {
   "cell_type": "code",
   "execution_count": 103,
   "id": "bf5c2301-be29-4da9-bd59-3941c763df5f",
   "metadata": {},
   "outputs": [
    {
     "data": {
      "image/png": "[encoded data removed]",
      "text/plain": [
       "<Figure size 432x288 with 1 Axes>"
      ]
     },
     "metadata": {
      "needs_background": "light"
     },
     "output_type": "display_data"
    }
   ],
   "source": [
    "plt.subplots\n",
    "history=np.array(train_history)\n",
    "plt.plot(history[:,0])\n",
    "plt.plot(history[:,1])\n",
    "plt.legend(['loss', 'accuracy'])\n",
    "plt.xticks(np.arange(0,epochs+1))\n",
    "plt.xlabel('epoch')\n",
    "plt.title('acc 70.6')\n",
    "plt.rcParams['axes.unicode_minus'] = False  \n",
    "plt.savefig('vgg16_bn_second.png')\n",
    "plt.show()"
   ]
  },
  {
   "cell_type": "code",
   "execution_count": null,
   "id": "97de5721-90bc-4093-9c4a-46dddb45f3b3",
   "metadata": {},
   "outputs": [],
   "source": []
  }
 ],
 "metadata": {
  "kernelspec": {
   "display_name": "Python 3",
   "language": "python",
   "name": "python3"
  },
  "language_info": {
   "codemirror_mode": {
    "name": "ipython",
    "version": 3
   },
   "file_extension": ".py",
   "mimetype": "text/x-python",
   "name": "python",
   "nbconvert_exporter": "python",
   "pygments_lexer": "ipython3",
   "version": "3.8.5"
  }
 },
 "nbformat": 4,
 "nbformat_minor": 5
}
