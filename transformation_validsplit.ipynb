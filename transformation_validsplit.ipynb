{
 "cells": [
  {
   "cell_type": "code",
   "execution_count": 1,
   "id": "ad8e2c06-97a8-4856-910d-ebc145df9837",
   "metadata": {},
   "outputs": [],
   "source": [
    "from PIL import Image\n",
    "import os\n",
    "\n",
    "import torch.tensor as tensor\n",
    "import torch, torchvision\n",
    "import torch.nn as nn\n",
    "import torch.nn.functional as F\n",
    "import torch.optim as optim\n",
    "from torch.utils.data import DataLoader\n",
    "from torchvision import datasets, models, transforms\n",
    "from torch.utils.data.dataset import random_split as random_split\n",
    "\n",
    "import pandas as pd\n",
    "import numpy as np\n",
    "import matplotlib.pyplot as plt\n",
    "from matplotlib import font_manager, rc\n",
    "\n",
    "import time"
   ]
  },
  {
   "cell_type": "code",
   "execution_count": 2,
   "id": "f5c88eff-62fa-45b1-99d7-25a3b8d455c5",
   "metadata": {},
   "outputs": [
    {
     "data": {
      "text/plain": [
       "True"
      ]
     },
     "execution_count": 2,
     "metadata": {},
     "output_type": "execute_result"
    }
   ],
   "source": [
    "torch.cuda.is_available()"
   ]
  },
  {
   "cell_type": "code",
   "execution_count": 3,
   "id": "807a7c48-5fe8-4b92-9a64-2c4af19535d7",
   "metadata": {},
   "outputs": [],
   "source": [
    "device=torch.device('cuda' if torch.cuda.is_available() else 'cpu')"
   ]
  },
  {
   "cell_type": "code",
   "execution_count": 4,
   "id": "5b745ebe-37c6-4149-be1e-26e4b07de15c",
   "metadata": {},
   "outputs": [],
   "source": [
    "width, height= 224,224\n",
    "batch_size=32\n",
    "learning_rate=0.001"
   ]
  },
  {
   "cell_type": "code",
   "execution_count": 5,
   "id": "e151414f-925a-441e-b8b1-e13f703455be",
   "metadata": {},
   "outputs": [],
   "source": [
    "train_dir='Training'\n",
    "test_dir='Testing'"
   ]
  },
  {
   "cell_type": "code",
   "execution_count": 6,
   "id": "aaf11fe0-d34b-45e3-8bd3-731fcfbed8e5",
   "metadata": {},
   "outputs": [
    {
     "data": {
      "text/plain": [
       "4"
      ]
     },
     "execution_count": 6,
     "metadata": {},
     "output_type": "execute_result"
    }
   ],
   "source": [
    "num_classes=len(os.listdir(train_dir))\n",
    "num_classes"
   ]
  },
  {
   "cell_type": "code",
   "execution_count": 7,
   "id": "0c867d71-3944-4a98-8650-db8befcc148d",
   "metadata": {},
   "outputs": [],
   "source": [
    "# Tensor 변환, 이미지 input size 맞춰주기 등 input data에 대한 전처리\n",
    "image_transforms={\n",
    "    'train':transforms.Compose([\n",
    "            transforms.RandomResizedCrop(size=(width, height)),\n",
    "            transforms.RandomHorizontalFlip(),\n",
    "            transforms.ToTensor(),\n",
    "            transforms.Resize((width, height)),                  \n",
    "    ]),\n",
    "    'test':transforms.Compose([\n",
    "            transforms.ToTensor(),\n",
    "            transforms.Resize((width, height)),                  \n",
    "    ])\n",
    "}\n",
    "\n",
    "\n",
    "#data 직접 가져와서 transform\n",
    "data={\n",
    "    'train':datasets.ImageFolder(root=train_dir, transform=image_transforms['train']),\n",
    "    'test':datasets.ImageFolder(root=test_dir, transform=image_transforms['test'])\n",
    "}\n",
    "\n"
   ]
  },
  {
   "cell_type": "code",
   "execution_count": 8,
   "id": "7c453727-f68f-4b4d-a156-b03e34f4edeb",
   "metadata": {},
   "outputs": [],
   "source": [
    "#train valid split\n",
    "train_size=int(0.8*len(data['train']))\n",
    "train_data, valid_data=random_split(data['train'], [train_size,len(data['train'])-train_size])"
   ]
  },
  {
   "cell_type": "code",
   "execution_count": null,
   "id": "365803fb-2eb6-4b26-a238-2d31650ae58c",
   "metadata": {},
   "outputs": [],
   "source": []
  },
  {
   "cell_type": "code",
   "execution_count": 9,
   "id": "80e5aa98-ba94-45da-a273-d710699f5030",
   "metadata": {},
   "outputs": [],
   "source": [
    "train_data_loader=DataLoader(train_data, batch_size=batch_size, shuffle=True)\n",
    "valid_data_loader=DataLoader(valid_data, batch_size=16, shuffle=False)\n",
    "test_data_loader=DataLoader(data['test'], batch_size=batch_size, shuffle=False)"
   ]
  },
  {
   "cell_type": "code",
   "execution_count": 10,
   "id": "2b84cfd7-5e02-4e3b-b632-d09d8d44c8ad",
   "metadata": {},
   "outputs": [
    {
     "name": "stdout",
     "output_type": "stream",
     "text": [
      "length of train_data:  2296\n",
      "length of valid_data:  575\n",
      "length of test_data:  394\n"
     ]
    }
   ],
   "source": [
    "# len_train=len(data['train'])\n",
    "len_train=len(train_data)\n",
    "len_valid=len(valid_data)\n",
    "len_test=len(data['test'])\n",
    "# print('length of train_data: ',len(data['train']))\n",
    "print('length of train_data: ',len(train_data))\n",
    "print('length of valid_data: ',len(valid_data))\n",
    "print('length of test_data: ',len(data['test']))"
   ]
  },
  {
   "cell_type": "code",
   "execution_count": 11,
   "id": "7670b68f-1f9a-4bf5-88aa-fde5edfc69ff",
   "metadata": {},
   "outputs": [
    {
     "name": "stdout",
     "output_type": "stream",
     "text": [
      "/glioma_tumor : 827\n",
      "/meningioma_tumor : 822\n",
      "/no_tumor : 395\n",
      "/pituitary_tumor : 827\n"
     ]
    }
   ],
   "source": [
    "for dir in ['/glioma_tumor', '/meningioma_tumor', '/no_tumor', '/pituitary_tumor']:\n",
    "    print(dir , ':', len(os.listdir(train_dir+dir)))"
   ]
  },
  {
   "cell_type": "code",
   "execution_count": 12,
   "id": "abeec506-7413-465d-b87c-cd2393fc2b8d",
   "metadata": {},
   "outputs": [
    {
     "name": "stdout",
     "output_type": "stream",
     "text": [
      "{'glioma_tumor': 0, 'meningioma_tumor': 1, 'no_tumor': 2, 'pituitary_tumor': 3}\n"
     ]
    }
   ],
   "source": [
    "indexes={k:v for k,v in data['train'].class_to_idx.items()}\n",
    "print(indexes)"
   ]
  },
  {
   "cell_type": "code",
   "execution_count": 13,
   "id": "254200b0-d91b-4e8b-9a38-5f4410d50da9",
   "metadata": {},
   "outputs": [
    {
     "data": {
      "text/plain": [
       "<matplotlib.image.AxesImage at 0x7fde586d4760>"
      ]
     },
     "execution_count": 13,
     "metadata": {},
     "output_type": "execute_result"
    },
    {
     "data": {
      "image/png": "[encoded data removed]",
      "text/plain": [
       "<Figure size 432x288 with 1 Axes>"
      ]
     },
     "metadata": {
      "needs_background": "light"
     },
     "output_type": "display_data"
    }
   ],
   "source": [
    "plt.imshow(np.transpose(train_data[0][0],(1,2,0)))"
   ]
  },
  {
   "cell_type": "code",
   "execution_count": 14,
   "id": "584241c5-73cb-4d9e-ba6f-663ea678f7d8",
   "metadata": {},
   "outputs": [
    {
     "data": {
      "image/png": "[encoded data removed]",
      "text/plain": [
       "<Figure size 432x288 with 1 Axes>"
      ]
     },
     "metadata": {
      "needs_background": "light"
     },
     "output_type": "display_data"
    },
    {
     "name": "stdout",
     "output_type": "stream",
     "text": [
      "0\n"
     ]
    }
   ],
   "source": [
    "#이미지 보기\n",
    "for batch_idx, (inputs, targets) in enumerate(train_data):\n",
    "    if batch_idx==1:\n",
    "        break\n",
    "    else:\n",
    "        img=inputs.numpy()\n",
    "        plt.imshow(np.transpose(img,(1,2,0)))\n",
    "        plt.show()\n",
    "        print(targets)"
   ]
  },
  {
   "cell_type": "code",
   "execution_count": 15,
   "id": "e4892475-5270-456a-b9a0-b13bf8a9a312",
   "metadata": {},
   "outputs": [
    {
     "name": "stdout",
     "output_type": "stream",
     "text": [
      "(3, 224, 224)\n",
      "<class 'numpy.ndarray'>\n",
      "(224, 224, 3)\n"
     ]
    }
   ],
   "source": [
    "print(img.shape)\n",
    "print(type(img))\n",
    "print(np.transpose(img,(1,2,0)).shape)"
   ]
  },
  {
   "cell_type": "code",
   "execution_count": 17,
   "id": "c5417186-5e10-4ff7-96a3-9acebadd9a0b",
   "metadata": {
    "tags": []
   },
   "outputs": [],
   "source": [
    "base_model=models.resnet50(pretrained=True)\n",
    "\n",
    "for param in base_model.parameters():\n",
    "    param.requires_grad=True\n",
    "    param.requires_bias=True\n",
    "\n",
    "n_inputs=base_model.fc.in_features\n",
    "\n",
    "base_model.fc=nn.Sequential(nn.Linear(n_inputs, 512),\n",
    "                            nn.ReLU(),\n",
    "                            nn.Dropout(0.2),\n",
    "                            nn.Linear(512,64),\n",
    "                            nn.ReLU(),\n",
    "                            nn.Dropout(0.2),\n",
    "                            nn.Linear(64,32),\n",
    "                            nn.Linear(32,num_classes),\n",
    "                            nn.LogSoftmax(dim=1)\n",
    "                            )\n",
    "base_model=base_model.to(device)"
   ]
  },
  {
   "cell_type": "code",
   "execution_count": 18,
   "id": "d87aa009-66f1-41c8-b870-4fc38c0de91a",
   "metadata": {
    "tags": []
   },
   "outputs": [
    {
     "name": "stdout",
     "output_type": "stream",
     "text": [
      "----------------------------------------------------------------\n",
      "        Layer (type)               Output Shape         Param #\n",
      "================================================================\n",
      "            Conv2d-1         [-1, 64, 112, 112]           9,408\n",
      "       BatchNorm2d-2         [-1, 64, 112, 112]             128\n",
      "              ReLU-3         [-1, 64, 112, 112]               0\n",
      "         MaxPool2d-4           [-1, 64, 56, 56]               0\n",
      "            Conv2d-5           [-1, 64, 56, 56]           4,096\n",
      "       BatchNorm2d-6           [-1, 64, 56, 56]             128\n",
      "              ReLU-7           [-1, 64, 56, 56]               0\n",
      "            Conv2d-8           [-1, 64, 56, 56]          36,864\n",
      "       BatchNorm2d-9           [-1, 64, 56, 56]             128\n",
      "             ReLU-10           [-1, 64, 56, 56]               0\n",
      "           Conv2d-11          [-1, 256, 56, 56]          16,384\n",
      "      BatchNorm2d-12          [-1, 256, 56, 56]             512\n",
      "           Conv2d-13          [-1, 256, 56, 56]          16,384\n",
      "      BatchNorm2d-14          [-1, 256, 56, 56]             512\n",
      "             ReLU-15          [-1, 256, 56, 56]               0\n",
      "       Bottleneck-16          [-1, 256, 56, 56]               0\n",
      "           Conv2d-17           [-1, 64, 56, 56]          16,384\n",
      "      BatchNorm2d-18           [-1, 64, 56, 56]             128\n",
      "             ReLU-19           [-1, 64, 56, 56]               0\n",
      "           Conv2d-20           [-1, 64, 56, 56]          36,864\n",
      "      BatchNorm2d-21           [-1, 64, 56, 56]             128\n",
      "             ReLU-22           [-1, 64, 56, 56]               0\n",
      "           Conv2d-23          [-1, 256, 56, 56]          16,384\n",
      "      BatchNorm2d-24          [-1, 256, 56, 56]             512\n",
      "             ReLU-25          [-1, 256, 56, 56]               0\n",
      "       Bottleneck-26          [-1, 256, 56, 56]               0\n",
      "           Conv2d-27           [-1, 64, 56, 56]          16,384\n",
      "      BatchNorm2d-28           [-1, 64, 56, 56]             128\n",
      "             ReLU-29           [-1, 64, 56, 56]               0\n",
      "           Conv2d-30           [-1, 64, 56, 56]          36,864\n",
      "      BatchNorm2d-31           [-1, 64, 56, 56]             128\n",
      "             ReLU-32           [-1, 64, 56, 56]               0\n",
      "           Conv2d-33          [-1, 256, 56, 56]          16,384\n",
      "      BatchNorm2d-34          [-1, 256, 56, 56]             512\n",
      "             ReLU-35          [-1, 256, 56, 56]               0\n",
      "       Bottleneck-36          [-1, 256, 56, 56]               0\n",
      "           Conv2d-37          [-1, 128, 56, 56]          32,768\n",
      "      BatchNorm2d-38          [-1, 128, 56, 56]             256\n",
      "             ReLU-39          [-1, 128, 56, 56]               0\n",
      "           Conv2d-40          [-1, 128, 28, 28]         147,456\n",
      "      BatchNorm2d-41          [-1, 128, 28, 28]             256\n",
      "             ReLU-42          [-1, 128, 28, 28]               0\n",
      "           Conv2d-43          [-1, 512, 28, 28]          65,536\n",
      "      BatchNorm2d-44          [-1, 512, 28, 28]           1,024\n",
      "           Conv2d-45          [-1, 512, 28, 28]         131,072\n",
      "      BatchNorm2d-46          [-1, 512, 28, 28]           1,024\n",
      "             ReLU-47          [-1, 512, 28, 28]               0\n",
      "       Bottleneck-48          [-1, 512, 28, 28]               0\n",
      "           Conv2d-49          [-1, 128, 28, 28]          65,536\n",
      "      BatchNorm2d-50          [-1, 128, 28, 28]             256\n",
      "             ReLU-51          [-1, 128, 28, 28]               0\n",
      "           Conv2d-52          [-1, 128, 28, 28]         147,456\n",
      "      BatchNorm2d-53          [-1, 128, 28, 28]             256\n",
      "             ReLU-54          [-1, 128, 28, 28]               0\n",
      "           Conv2d-55          [-1, 512, 28, 28]          65,536\n",
      "      BatchNorm2d-56          [-1, 512, 28, 28]           1,024\n",
      "             ReLU-57          [-1, 512, 28, 28]               0\n",
      "       Bottleneck-58          [-1, 512, 28, 28]               0\n",
      "           Conv2d-59          [-1, 128, 28, 28]          65,536\n",
      "      BatchNorm2d-60          [-1, 128, 28, 28]             256\n",
      "             ReLU-61          [-1, 128, 28, 28]               0\n",
      "           Conv2d-62          [-1, 128, 28, 28]         147,456\n",
      "      BatchNorm2d-63          [-1, 128, 28, 28]             256\n",
      "             ReLU-64          [-1, 128, 28, 28]               0\n",
      "           Conv2d-65          [-1, 512, 28, 28]          65,536\n",
      "      BatchNorm2d-66          [-1, 512, 28, 28]           1,024\n",
      "             ReLU-67          [-1, 512, 28, 28]               0\n",
      "       Bottleneck-68          [-1, 512, 28, 28]               0\n",
      "           Conv2d-69          [-1, 128, 28, 28]          65,536\n",
      "      BatchNorm2d-70          [-1, 128, 28, 28]             256\n",
      "             ReLU-71          [-1, 128, 28, 28]               0\n",
      "           Conv2d-72          [-1, 128, 28, 28]         147,456\n",
      "      BatchNorm2d-73          [-1, 128, 28, 28]             256\n",
      "             ReLU-74          [-1, 128, 28, 28]               0\n",
      "           Conv2d-75          [-1, 512, 28, 28]          65,536\n",
      "      BatchNorm2d-76          [-1, 512, 28, 28]           1,024\n",
      "             ReLU-77          [-1, 512, 28, 28]               0\n",
      "       Bottleneck-78          [-1, 512, 28, 28]               0\n",
      "           Conv2d-79          [-1, 256, 28, 28]         131,072\n",
      "      BatchNorm2d-80          [-1, 256, 28, 28]             512\n",
      "             ReLU-81          [-1, 256, 28, 28]               0\n",
      "           Conv2d-82          [-1, 256, 14, 14]         589,824\n",
      "      BatchNorm2d-83          [-1, 256, 14, 14]             512\n",
      "             ReLU-84          [-1, 256, 14, 14]               0\n",
      "           Conv2d-85         [-1, 1024, 14, 14]         262,144\n",
      "      BatchNorm2d-86         [-1, 1024, 14, 14]           2,048\n",
      "           Conv2d-87         [-1, 1024, 14, 14]         524,288\n",
      "      BatchNorm2d-88         [-1, 1024, 14, 14]           2,048\n",
      "             ReLU-89         [-1, 1024, 14, 14]               0\n",
      "       Bottleneck-90         [-1, 1024, 14, 14]               0\n",
      "           Conv2d-91          [-1, 256, 14, 14]         262,144\n",
      "      BatchNorm2d-92          [-1, 256, 14, 14]             512\n",
      "             ReLU-93          [-1, 256, 14, 14]               0\n",
      "           Conv2d-94          [-1, 256, 14, 14]         589,824\n",
      "      BatchNorm2d-95          [-1, 256, 14, 14]             512\n",
      "             ReLU-96          [-1, 256, 14, 14]               0\n",
      "           Conv2d-97         [-1, 1024, 14, 14]         262,144\n",
      "      BatchNorm2d-98         [-1, 1024, 14, 14]           2,048\n",
      "             ReLU-99         [-1, 1024, 14, 14]               0\n",
      "      Bottleneck-100         [-1, 1024, 14, 14]               0\n",
      "          Conv2d-101          [-1, 256, 14, 14]         262,144\n",
      "     BatchNorm2d-102          [-1, 256, 14, 14]             512\n",
      "            ReLU-103          [-1, 256, 14, 14]               0\n",
      "          Conv2d-104          [-1, 256, 14, 14]         589,824\n",
      "     BatchNorm2d-105          [-1, 256, 14, 14]             512\n",
      "            ReLU-106          [-1, 256, 14, 14]               0\n",
      "          Conv2d-107         [-1, 1024, 14, 14]         262,144\n",
      "     BatchNorm2d-108         [-1, 1024, 14, 14]           2,048\n",
      "            ReLU-109         [-1, 1024, 14, 14]               0\n",
      "      Bottleneck-110         [-1, 1024, 14, 14]               0\n",
      "          Conv2d-111          [-1, 256, 14, 14]         262,144\n",
      "     BatchNorm2d-112          [-1, 256, 14, 14]             512\n",
      "            ReLU-113          [-1, 256, 14, 14]               0\n",
      "          Conv2d-114          [-1, 256, 14, 14]         589,824\n",
      "     BatchNorm2d-115          [-1, 256, 14, 14]             512\n",
      "            ReLU-116          [-1, 256, 14, 14]               0\n",
      "          Conv2d-117         [-1, 1024, 14, 14]         262,144\n",
      "     BatchNorm2d-118         [-1, 1024, 14, 14]           2,048\n",
      "            ReLU-119         [-1, 1024, 14, 14]               0\n",
      "      Bottleneck-120         [-1, 1024, 14, 14]               0\n",
      "          Conv2d-121          [-1, 256, 14, 14]         262,144\n",
      "     BatchNorm2d-122          [-1, 256, 14, 14]             512\n",
      "            ReLU-123          [-1, 256, 14, 14]               0\n",
      "          Conv2d-124          [-1, 256, 14, 14]         589,824\n",
      "     BatchNorm2d-125          [-1, 256, 14, 14]             512\n",
      "            ReLU-126          [-1, 256, 14, 14]               0\n",
      "          Conv2d-127         [-1, 1024, 14, 14]         262,144\n",
      "     BatchNorm2d-128         [-1, 1024, 14, 14]           2,048\n",
      "            ReLU-129         [-1, 1024, 14, 14]               0\n",
      "      Bottleneck-130         [-1, 1024, 14, 14]               0\n",
      "          Conv2d-131          [-1, 256, 14, 14]         262,144\n",
      "     BatchNorm2d-132          [-1, 256, 14, 14]             512\n",
      "            ReLU-133          [-1, 256, 14, 14]               0\n",
      "          Conv2d-134          [-1, 256, 14, 14]         589,824\n",
      "     BatchNorm2d-135          [-1, 256, 14, 14]             512\n",
      "            ReLU-136          [-1, 256, 14, 14]               0\n",
      "          Conv2d-137         [-1, 1024, 14, 14]         262,144\n",
      "     BatchNorm2d-138         [-1, 1024, 14, 14]           2,048\n",
      "            ReLU-139         [-1, 1024, 14, 14]               0\n",
      "      Bottleneck-140         [-1, 1024, 14, 14]               0\n",
      "          Conv2d-141          [-1, 512, 14, 14]         524,288\n",
      "     BatchNorm2d-142          [-1, 512, 14, 14]           1,024\n",
      "            ReLU-143          [-1, 512, 14, 14]               0\n",
      "          Conv2d-144            [-1, 512, 7, 7]       2,359,296\n",
      "     BatchNorm2d-145            [-1, 512, 7, 7]           1,024\n",
      "            ReLU-146            [-1, 512, 7, 7]               0\n",
      "          Conv2d-147           [-1, 2048, 7, 7]       1,048,576\n",
      "     BatchNorm2d-148           [-1, 2048, 7, 7]           4,096\n",
      "          Conv2d-149           [-1, 2048, 7, 7]       2,097,152\n",
      "     BatchNorm2d-150           [-1, 2048, 7, 7]           4,096\n",
      "            ReLU-151           [-1, 2048, 7, 7]               0\n",
      "      Bottleneck-152           [-1, 2048, 7, 7]               0\n",
      "          Conv2d-153            [-1, 512, 7, 7]       1,048,576\n",
      "     BatchNorm2d-154            [-1, 512, 7, 7]           1,024\n",
      "            ReLU-155            [-1, 512, 7, 7]               0\n",
      "          Conv2d-156            [-1, 512, 7, 7]       2,359,296\n",
      "     BatchNorm2d-157            [-1, 512, 7, 7]           1,024\n",
      "            ReLU-158            [-1, 512, 7, 7]               0\n",
      "          Conv2d-159           [-1, 2048, 7, 7]       1,048,576\n",
      "     BatchNorm2d-160           [-1, 2048, 7, 7]           4,096\n",
      "            ReLU-161           [-1, 2048, 7, 7]               0\n",
      "      Bottleneck-162           [-1, 2048, 7, 7]               0\n",
      "          Conv2d-163            [-1, 512, 7, 7]       1,048,576\n",
      "     BatchNorm2d-164            [-1, 512, 7, 7]           1,024\n",
      "            ReLU-165            [-1, 512, 7, 7]               0\n",
      "          Conv2d-166            [-1, 512, 7, 7]       2,359,296\n",
      "     BatchNorm2d-167            [-1, 512, 7, 7]           1,024\n",
      "            ReLU-168            [-1, 512, 7, 7]               0\n",
      "          Conv2d-169           [-1, 2048, 7, 7]       1,048,576\n",
      "     BatchNorm2d-170           [-1, 2048, 7, 7]           4,096\n",
      "            ReLU-171           [-1, 2048, 7, 7]               0\n",
      "      Bottleneck-172           [-1, 2048, 7, 7]               0\n",
      "AdaptiveAvgPool2d-173           [-1, 2048, 1, 1]               0\n",
      "          Linear-174                  [-1, 512]       1,049,088\n",
      "            ReLU-175                  [-1, 512]               0\n",
      "         Dropout-176                  [-1, 512]               0\n",
      "          Linear-177                   [-1, 64]          32,832\n",
      "            ReLU-178                   [-1, 64]               0\n",
      "         Dropout-179                   [-1, 64]               0\n",
      "          Linear-180                   [-1, 32]           2,080\n",
      "          Linear-181                    [-1, 4]             132\n",
      "      LogSoftmax-182                    [-1, 4]               0\n",
      "================================================================\n",
      "Total params: 24,592,164\n",
      "Trainable params: 24,592,164\n",
      "Non-trainable params: 0\n",
      "----------------------------------------------------------------\n",
      "Input size (MB): 0.57\n",
      "Forward/backward pass size (MB): 286.56\n",
      "Params size (MB): 93.81\n",
      "Estimated Total Size (MB): 380.95\n",
      "----------------------------------------------------------------\n"
     ]
    }
   ],
   "source": [
    "from torchsummary import summary\n",
    "summary(base_model, input_size=(3,224,224), device=device.type)"
   ]
  },
  {
   "cell_type": "code",
   "execution_count": 19,
   "id": "6eb4a415-d262-461d-a917-511d2bc643e7",
   "metadata": {},
   "outputs": [],
   "source": [
    "criterion=nn.CrossEntropyLoss().to(device)\n",
    "optimizer=torch.optim.Adam(base_model.parameters(), lr=0.001)"
   ]
  },
  {
   "cell_type": "code",
   "execution_count": 20,
   "id": "126747de-264f-45b6-abd8-e3409f05caf6",
   "metadata": {},
   "outputs": [],
   "source": [
    "def train(model, loss, optimizer, epochs):\n",
    "    start=time.time()\n",
    "    history=[]\n",
    "    best_acc=0.0\n",
    "    \n",
    "    for epoch in range(epochs):\n",
    "        epoch_start=time.time()\n",
    "        print('Epoch : {} / {}' .format(epoch+1, epochs))\n",
    "\n",
    "        model.train()\n",
    "\n",
    "        train_loss=0.0\n",
    "        train_acc=0.0\n",
    "\n",
    "        for i, (inputs, labels) in enumerate(train_data_loader):\n",
    "            inputs=inputs.to(device)\n",
    "            labels=labels.to(device)\n",
    "            optimizer.zero_grad()\n",
    "            outputs=model(inputs)\n",
    "\n",
    "            loss=criterion(outputs, labels)\n",
    "            loss.backward()\n",
    "            optimizer.step()\n",
    "\n",
    "            train_loss+=loss.item() * inputs.size(0)\n",
    "\n",
    "            ret, predictions=torch.max(outputs.data,1)\n",
    "            correct_counts=predictions.eq(labels.data.view_as(predictions))\n",
    "\n",
    "            acc=torch.mean(correct_counts.type(torch.FloatTensor))\n",
    "\n",
    "            train_acc+=acc.item() * inputs.size(0)\n",
    "            \n",
    "    \n",
    "        avg_train_loss=train_loss/len_train\n",
    "        avg_train_acc=train_acc/len_train\n",
    "        print('Training : loss - {:.4f}, Accuracy - {:4f}'.format(avg_train_loss, avg_train_acc))\n",
    "        history.append([avg_train_loss, avg_train_acc])\n",
    "        \n",
    "        \n",
    "        #for validation\n",
    "        total=0\n",
    "        correct=0\n",
    "        for i, (inputs, labels) in enumerate(valid_data_loader):\n",
    "                inputs=inputs.to(device)\n",
    "                labels=labels.to(device)\n",
    "                outputs=base_model(inputs)\n",
    "\n",
    "                total+=labels.size(0)\n",
    "                ret, predictions=torch.max(outputs.data,1)\n",
    "                correct+=(predictions==labels).sum().item()\n",
    "\n",
    "        print('Validation : Accuracy - ', round(correct/total),6)\n",
    "    \n",
    "        \n",
    "    epoch_end=time.time()\n",
    "    print(\"Epoch :{:03d} , Validation: loss - {:.4f}, Accuracy - {:4f}, Time : {:4f}s\"\\\n",
    "          .format(epoch+1, avg_train_loss, (avg_train_acc)*100, epoch_end-epoch_start))\n",
    "    \n",
    "#     torch.save(model.state_dict(), '/models')\n",
    "#     torch.save('model_2', '/models')\n",
    "    \n",
    "    return model, history\n"
   ]
  },
  {
   "cell_type": "code",
   "execution_count": 21,
   "id": "17caf57c-f5cf-4340-a65d-368c111c23b5",
   "metadata": {
    "tags": []
   },
   "outputs": [
    {
     "name": "stdout",
     "output_type": "stream",
     "text": [
      "Epoch : 1 / 30\n",
      "Training : loss - 1.0068, Accuracy - 0.593641\n",
      "Validation : Accuracy -  1 6\n",
      "Epoch : 2 / 30\n",
      "Training : loss - 0.8534, Accuracy - 0.650697\n",
      "Validation : Accuracy -  1 6\n",
      "Epoch : 3 / 30\n",
      "Training : loss - 0.7679, Accuracy - 0.694251\n",
      "Validation : Accuracy -  1 6\n",
      "Epoch : 4 / 30\n",
      "Training : loss - 0.7256, Accuracy - 0.732143\n",
      "Validation : Accuracy -  1 6\n",
      "Epoch : 5 / 30\n",
      "Training : loss - 0.6601, Accuracy - 0.759146\n",
      "Validation : Accuracy -  1 6\n",
      "Epoch : 6 / 30\n",
      "Training : loss - 0.6404, Accuracy - 0.749129\n",
      "Validation : Accuracy -  1 6\n",
      "Epoch : 7 / 30\n",
      "Training : loss - 0.6131, Accuracy - 0.766551\n",
      "Validation : Accuracy -  1 6\n",
      "Epoch : 8 / 30\n",
      "Training : loss - 0.6097, Accuracy - 0.768728\n",
      "Validation : Accuracy -  1 6\n",
      "Epoch : 9 / 30\n",
      "Training : loss - 0.5740, Accuracy - 0.783101\n",
      "Validation : Accuracy -  1 6\n",
      "Epoch : 10 / 30\n",
      "Training : loss - 0.5515, Accuracy - 0.790941\n",
      "Validation : Accuracy -  1 6\n",
      "Epoch : 11 / 30\n",
      "Training : loss - 0.5564, Accuracy - 0.782666\n",
      "Validation : Accuracy -  1 6\n",
      "Epoch : 12 / 30\n",
      "Training : loss - 0.5236, Accuracy - 0.803136\n",
      "Validation : Accuracy -  1 6\n",
      "Epoch : 13 / 30\n",
      "Training : loss - 0.5109, Accuracy - 0.805749\n",
      "Validation : Accuracy -  1 6\n",
      "Epoch : 14 / 30\n",
      "Training : loss - 0.4735, Accuracy - 0.821864\n",
      "Validation : Accuracy -  1 6\n",
      "Epoch : 15 / 30\n",
      "Training : loss - 0.5131, Accuracy - 0.817509\n",
      "Validation : Accuracy -  1 6\n",
      "Epoch : 16 / 30\n",
      "Training : loss - 0.4768, Accuracy - 0.819686\n",
      "Validation : Accuracy -  1 6\n",
      "Epoch : 17 / 30\n",
      "Training : loss - 0.4661, Accuracy - 0.833188\n",
      "Validation : Accuracy -  1 6\n",
      "Epoch : 18 / 30\n",
      "Training : loss - 0.4042, Accuracy - 0.849303\n",
      "Validation : Accuracy -  1 6\n",
      "Epoch : 19 / 30\n",
      "Training : loss - 0.4226, Accuracy - 0.844512\n",
      "Validation : Accuracy -  1 6\n",
      "Epoch : 20 / 30\n",
      "Training : loss - 0.4207, Accuracy - 0.850610\n",
      "Validation : Accuracy -  1 6\n",
      "Epoch : 21 / 30\n",
      "Training : loss - 0.4043, Accuracy - 0.858014\n",
      "Validation : Accuracy -  1 6\n",
      "Epoch : 22 / 30\n",
      "Training : loss - 0.4168, Accuracy - 0.846254\n",
      "Validation : Accuracy -  1 6\n",
      "Epoch : 23 / 30\n",
      "Training : loss - 0.3672, Accuracy - 0.865854\n",
      "Validation : Accuracy -  1 6\n",
      "Epoch : 24 / 30\n",
      "Training : loss - 0.3698, Accuracy - 0.866289\n",
      "Validation : Accuracy -  1 6\n",
      "Epoch : 25 / 30\n",
      "Training : loss - 0.3877, Accuracy - 0.858014\n",
      "Validation : Accuracy -  1 6\n",
      "Epoch : 26 / 30\n",
      "Training : loss - 0.3665, Accuracy - 0.862805\n",
      "Validation : Accuracy -  1 6\n",
      "Epoch : 27 / 30\n",
      "Training : loss - 0.3187, Accuracy - 0.887195\n",
      "Validation : Accuracy -  1 6\n",
      "Epoch : 28 / 30\n",
      "Training : loss - 0.3700, Accuracy - 0.858014\n",
      "Validation : Accuracy -  1 6\n",
      "Epoch : 29 / 30\n",
      "Training : loss - 0.3574, Accuracy - 0.867596\n",
      "Validation : Accuracy -  1 6\n",
      "Epoch : 30 / 30\n",
      "Training : loss - 0.3364, Accuracy - 0.877178\n",
      "Validation : Accuracy -  1 6\n",
      "Epoch :030 , Validation: loss - 0.3364, Accuracy - 87.717770, Time : 17.043117s\n"
     ]
    }
   ],
   "source": [
    "epochs=30\n",
    "train_model, train_history=train(base_model, criterion, optimizer, epochs)"
   ]
  },
  {
   "cell_type": "code",
   "execution_count": 22,
   "id": "bf5c2301-be29-4da9-bd59-3941c763df5f",
   "metadata": {},
   "outputs": [
    {
     "data": {
      "image/png": "[encoded data removed]",
      "text/plain": [
       "<Figure size 432x288 with 1 Axes>"
      ]
     },
     "metadata": {
      "needs_background": "light"
     },
     "output_type": "display_data"
    }
   ],
   "source": [
    "plt.subplots\n",
    "history=np.array(train_history)\n",
    "plt.plot(history[:,0])\n",
    "plt.plot(history[:,1])\n",
    "plt.legend(['loss', 'accuracy'])\n",
    "plt.xticks(np.arange(0,epochs+1))\n",
    "plt.xlabel('epoch')\n",
    "plt.rcParams['axes.unicode_minus'] = False  \n",
    "plt.show()"
   ]
  },
  {
   "cell_type": "code",
   "execution_count": 23,
   "id": "49337b21-a754-4f09-a1d4-7c887989cff6",
   "metadata": {},
   "outputs": [
    {
     "name": "stdout",
     "output_type": "stream",
     "text": [
      "Test Accuracy 62.690355 %\n"
     ]
    }
   ],
   "source": [
    "train_model.eval()\n",
    "correct=0\n",
    "total=0\n",
    "\n",
    "with torch.no_grad(): #test니까 gradient update 없음\n",
    "    for images , labels in test_data_loader:\n",
    "        images=images.to(device)\n",
    "        labels=labels.to(device)\n",
    "        outputs=train_model(images)\n",
    "        _, predicted= torch.max(outputs.data,1)\n",
    "        total+=labels.size(0)\n",
    "        correct+=(predicted==labels).sum().item()\n",
    "    print('Test Accuracy {} %'.format(round(100*correct/total , 6)))"
   ]
  },
  {
   "cell_type": "code",
   "execution_count": null,
   "id": "97de5721-90bc-4093-9c4a-46dddb45f3b3",
   "metadata": {},
   "outputs": [],
   "source": []
  }
 ],
 "metadata": {
  "kernelspec": {
   "display_name": "Python 3",
   "language": "python",
   "name": "python3"
  },
  "language_info": {
   "codemirror_mode": {
    "name": "ipython",
    "version": 3
   },
   "file_extension": ".py",
   "mimetype": "text/x-python",
   "name": "python",
   "nbconvert_exporter": "python",
   "pygments_lexer": "ipython3",
   "version": "3.8.5"
  }
 },
 "nbformat": 4,
 "nbformat_minor": 5
}
