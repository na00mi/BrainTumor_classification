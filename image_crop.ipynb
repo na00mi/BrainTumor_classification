{
 "cells": [
  {
   "cell_type": "code",
   "execution_count": null,
   "id": "7aaa593e-7cde-4846-bd6a-e59f5ce0f8fe",
   "metadata": {},
   "outputs": [],
   "source": [
    "import os\n",
    "import cv2\n",
    "import numpy as np\n",
    "import matplotlib.pyplot as plt\n",
    "import glob"
   ]
  },
  {
   "cell_type": "code",
   "execution_count": null,
   "id": "58eada42-bbe8-43a4-b47a-446515a1a2f5",
   "metadata": {},
   "outputs": [],
   "source": [
    "train_dir='Testing'\n",
    "for dir in ['/glioma_tumor', '/meningioma_tumor', '/no_tumor', '/pituitary_tumor']:\n",
    "    print(dir , ':', len(os.listdir(train_dir+dir)))"
   ]
  },
  {
   "cell_type": "code",
   "execution_count": null,
   "id": "ef524fcc-7741-4b42-9ff7-355b04c88751",
   "metadata": {},
   "outputs": [],
   "source": [
    "all_files=[]\n",
    "for dir in ['/glioma_tumor', '/meningioma_tumor', '/no_tumor', '/pituitary_tumor']:\n",
    "    for f in glob.glob(f'Training{dir}/*'):\n",
    "        all_files.append(f)"
   ]
  },
  {
   "cell_type": "code",
   "execution_count": null,
   "id": "27c00c70-3d1c-4767-8d01-ee034a457308",
   "metadata": {},
   "outputs": [],
   "source": [
    "img=cv2.imread(all_files[1])\n",
    "img=cv2.cvtColor(img, cv2.COLOR_BGR2RGB)\n",
    "plt.imshow(img)"
   ]
  },
  {
   "cell_type": "code",
   "execution_count": 47,
   "id": "bfa43ded-df75-4103-935f-e5a0581b221c",
   "metadata": {},
   "outputs": [],
   "source": [
    "def image_crop(image):\n",
    "    lower = np.array([30,30,30])\n",
    "    higher = np.array([250,250,250])\n",
    "    \n",
    "    img=cv2.imread(image)\n",
    "    cv_img=cv2.cvtColor(img, cv2.COLOR_BGR2RGB)\n",
    "    \n",
    "    mask=cv2.inRange(cv_img, lower, higher)\n",
    "    \n",
    "    cont,_ = cv2.findContours(mask,cv2.RETR_EXTERNAL,cv2.CHAIN_APPROX_NONE)\n",
    "    #cont_img = cv2.drawContours(cv_img,cont,-1,255,2)\n",
    "    \n",
    "    c = max(cont,key =cv2.contourArea)\n",
    "    x,y,w,h = cv2.boundingRect(c)\n",
    "    #cv2.rectangle(img,(x,y),(x+w,y+h),(0,255,0),3)\n",
    "    crop_img = img[y: y+h, x : x+w]\n",
    "    \n",
    "    return crop_img"
   ]
  },
  {
   "cell_type": "code",
   "execution_count": 62,
   "id": "93fb217a-9a40-41d9-8b3a-928e952cf1e1",
   "metadata": {},
   "outputs": [],
   "source": [
    "for file in all_files:\n",
    "    _, folder, name=file.split('/')\n",
    "    crop_img=image_crop(file)\n",
    "    cv2.imwrite(os.path.join('/home/na00mi/brain_tumor/Crop_Training',folder,name), crop_img)"
   ]
  },
  {
   "cell_type": "code",
   "execution_count": null,
   "id": "c7cda6b1-a73f-4085-8fe5-a67c104e3d27",
   "metadata": {},
   "outputs": [],
   "source": []
  }
 ],
 "metadata": {
  "kernelspec": {
   "display_name": "Python 3",
   "language": "python",
   "name": "python3"
  },
  "language_info": {
   "codemirror_mode": {
    "name": "ipython",
    "version": 3
   },
   "file_extension": ".py",
   "mimetype": "text/x-python",
   "name": "python",
   "nbconvert_exporter": "python",
   "pygments_lexer": "ipython3",
   "version": "3.8.5"
  }
 },
 "nbformat": 4,
 "nbformat_minor": 5
}
